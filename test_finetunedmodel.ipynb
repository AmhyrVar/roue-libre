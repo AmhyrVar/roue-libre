{
 "cells": [
  {
   "cell_type": "code",
   "execution_count": 2,
   "metadata": {},
   "outputs": [
    {
     "ename": "",
     "evalue": "",
     "output_type": "error",
     "traceback": [
      "\u001b[1;31mThe Kernel crashed while executing code in the current cell or a previous cell. \n",
      "\u001b[1;31mPlease review the code in the cell(s) to identify a possible cause of the failure. \n",
      "\u001b[1;31mClick <a href='https://aka.ms/vscodeJupyterKernelCrash'>here</a> for more info. \n",
      "\u001b[1;31mView Jupyter <a href='command:jupyter.viewOutput'>log</a> for further details."
     ]
    }
   ],
   "source": [
    "# Load model directly\n",
    "from transformers import AutoTokenizer, AutoModelForCausalLM\n",
    "\n",
    "tokenizer = AutoTokenizer.from_pretrained(\"Amhyr/test4bit\")\n",
    "model = AutoModelForCausalLM.from_pretrained(\"Amhyr/test4bit\")\n",
    "\n",
    "prompt = \"\"\"Voici une instruction qui décrit une tâche, accompagnée d'un contexte supplémentaire. Écrivez une réponse qui complète adéquatement la demande.\n",
    "\n",
    "### Instruction:\n",
    "{}\n",
    "\n",
    "### Input:\n",
    "{}\n",
    "\n",
    "### Response:\n",
    "{}\n",
    "\n",
    "\"\"\"\n",
    "\n",
    "\n",
    "inputs = tokenizer(\n",
    "[\n",
    "    prompt.format(\n",
    "        \"Quels sont les liquides biologiques qui peuvent contenir des agents infectieux et générer un risque de transmission en cas d’exposition ?\", # instruction\n",
    "        \"\", # input\n",
    "        \"\", # output - leave this blank for generation!\n",
    "    )\n",
    "], return_tensors = \"pt\").to(\"cuda\")\n",
    "\n",
    "outputs = model.generate(**inputs, max_new_tokens = 500, use_cache = True)\n",
    "tokenizer.batch_decode(outputs)"
   ]
  },
  {
   "cell_type": "code",
   "execution_count": 2,
   "metadata": {},
   "outputs": [
    {
     "data": {
      "application/vnd.jupyter.widget-view+json": {
       "model_id": "e88733816c3948b090023e17f4190c83",
       "version_major": 2,
       "version_minor": 0
      },
      "text/plain": [
       "config.json:   0%|          | 0.00/1.07k [00:00<?, ?B/s]"
      ]
     },
     "metadata": {},
     "output_type": "display_data"
    },
    {
     "name": "stderr",
     "output_type": "stream",
     "text": [
      "d:\\Envs\\envs\\cudaenv\\lib\\site-packages\\huggingface_hub\\file_download.py:157: UserWarning: `huggingface_hub` cache-system uses symlinks by default to efficiently store duplicated files but your machine does not support them in C:\\Users\\Administrator\\.cache\\huggingface\\hub\\models--unsloth--mistral-7b-instruct-v0.2-bnb-4bit. Caching files will still work but in a degraded version that might require more space on your disk. This warning can be disabled by setting the `HF_HUB_DISABLE_SYMLINKS_WARNING` environment variable. For more details, see https://huggingface.co/docs/huggingface_hub/how-to-cache#limitations.\n",
      "To support symlinks on Windows, you either need to activate Developer Mode or to run Python as an administrator. In order to see activate developer mode, see this article: https://docs.microsoft.com/en-us/windows/apps/get-started/enable-your-device-for-development\n",
      "  warnings.warn(message)\n"
     ]
    },
    {
     "data": {
      "application/vnd.jupyter.widget-view+json": {
       "model_id": "ccb8f9622fc24357b804902c893b9e08",
       "version_major": 2,
       "version_minor": 0
      },
      "text/plain": [
       "model.safetensors:   0%|          | 0.00/4.13G [00:00<?, ?B/s]"
      ]
     },
     "metadata": {},
     "output_type": "display_data"
    },
    {
     "name": "stderr",
     "output_type": "stream",
     "text": [
      "Error while downloading from https://cdn-lfs-us-1.huggingface.co/repos/c2/f7/c2f75be1fc80ebb74374dc8444ea776ee64eb54e502786a784d52ea6dc38757e/5ac048c8614d6888b433a9ddb4ba8ae0633765757e99beb51e3edceeccdf3c4d?response-content-disposition=inline%3B+filename*%3DUTF-8%27%27model.safetensors%3B+filename%3D%22model.safetensors%22%3B&Expires=1721325885&Policy=eyJTdGF0ZW1lbnQiOlt7IkNvbmRpdGlvbiI6eyJEYXRlTGVzc1RoYW4iOnsiQVdTOkVwb2NoVGltZSI6MTcyMTMyNTg4NX19LCJSZXNvdXJjZSI6Imh0dHBzOi8vY2RuLWxmcy11cy0xLmh1Z2dpbmdmYWNlLmNvL3JlcG9zL2MyL2Y3L2MyZjc1YmUxZmM4MGViYjc0Mzc0ZGM4NDQ0ZWE3NzZlZTY0ZWI1NGU1MDI3ODZhNzg0ZDUyZWE2ZGMzODc1N2UvNWFjMDQ4Yzg2MTRkNjg4OGI0MzNhOWRkYjRiYThhZTA2MzM3NjU3NTdlOTliZWI1MWUzZWRjZWVjY2RmM2M0ZD9yZXNwb25zZS1jb250ZW50LWRpc3Bvc2l0aW9uPSoifV19&Signature=HyEXQWD9-iUqiU%7E8mkgz6mZ0xTiS7I7gZQbbdwvDwRtscPCfLfQrPgWgtY5mKcEuGNRWoViQXXKavXPx8Z27i3jPrNomqzbW4U6oDXcyAPjCO6RgM%7E%7EE8M2G6voBEN7rNmlu-8%7ExS0-nV4bWRbJ4lScDUd-36KL7%7ETPiiHP3kZ3d9-p5sGRvnB6r4UWmd-Bm1QP2xA02cb2ikv9bej6MkK99GedLoPhfH%7Edr7TftXyZvtTbHjfvGmQ%7E5kDYpE-1LBjbZO7NgDgJpb-CTc-%7E4qtMKqfDoZKVzmpsFm2i9CgaINw2F6nmUcJNsyMc28vq1XJAUtqGW5rD6lxQtrKZMog__&Key-Pair-Id=K24J24Z295AEI9: HTTPSConnectionPool(host='cdn-lfs-us-1.huggingface.co', port=443): Read timed out.\n",
      "Trying to resume download...\n"
     ]
    },
    {
     "data": {
      "application/vnd.jupyter.widget-view+json": {
       "model_id": "e0803c06e5cf4ce8997f86fc14dd1352",
       "version_major": 2,
       "version_minor": 0
      },
      "text/plain": [
       "model.safetensors:  45%|####5     | 1.88G/4.13G [00:00<?, ?B/s]"
      ]
     },
     "metadata": {},
     "output_type": "display_data"
    },
    {
     "ename": "",
     "evalue": "",
     "output_type": "error",
     "traceback": [
      "\u001b[1;31mThe Kernel crashed while executing code in the current cell or a previous cell. \n",
      "\u001b[1;31mPlease review the code in the cell(s) to identify a possible cause of the failure. \n",
      "\u001b[1;31mClick <a href='https://aka.ms/vscodeJupyterKernelCrash'>here</a> for more info. \n",
      "\u001b[1;31mView Jupyter <a href='command:jupyter.viewOutput'>log</a> for further details."
     ]
    }
   ],
   "source": [
    "# Use a pipeline as a high-level helper\n",
    "from transformers import pipeline\n",
    "\n",
    "messages = [\n",
    "    {\"role\": \"user\", \"content\": \"Quels sont les liquides biologiques qui peuvent contenir des agents infectieux et générer un risque de transmission en cas d’exposition ?\"},\n",
    "]\n",
    "pipe = pipeline(\"text-generation\", model=\"unsloth/mistral-7b-instruct-v0.2-bnb-4bit\")\n",
    "pipe(messages)"
   ]
  }
 ],
 "metadata": {
  "kernelspec": {
   "display_name": "cudaenv",
   "language": "python",
   "name": "python3"
  },
  "language_info": {
   "codemirror_mode": {
    "name": "ipython",
    "version": 3
   },
   "file_extension": ".py",
   "mimetype": "text/x-python",
   "name": "python",
   "nbconvert_exporter": "python",
   "pygments_lexer": "ipython3",
   "version": "3.8.19"
  }
 },
 "nbformat": 4,
 "nbformat_minor": 2
}
